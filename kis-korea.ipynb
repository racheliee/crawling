{
 "cells": [
  {
   "cell_type": "markdown",
   "metadata": {},
   "source": [
    "# 국내 주식 주문 및 시세\n",
    "- 지금 장이 닫혀서 실제 주문이 들어가질 않음. 아웃풋이 실패했다고 나오지만, 장이 열렸을때는 성공적으로 주문이 들어감.\n",
    "- 성공적으로 주문이 들어갔을떄의 아웃풋은 주석으로 첨부해놓음"
   ]
  },
  {
   "cell_type": "markdown",
   "metadata": {},
   "source": [
    "## 잔고 조회\n",
    "```python\n",
    "broker.fetch_balance()\n",
    "```\n",
    "- 잔고 조회\n",
    "- ret val: dict\n",
    "- 주요 key:\n",
    "  - `tot_evlu_amt`: 총 평가금액\n",
    "  - `dcna_tot_amt`: 예수금 \n",
    "- api 자체는 약간 다른 변수명을 사용하긴 함 [공식 오픈 api 페이지](https://apiportal.koreainvestment.com/apiservice/apiservice-domestic-stock-order#L_052c663e-73db-43ee-b1a0-702a14de31fc)"
   ]
  },
  {
   "cell_type": "code",
   "execution_count": 8,
   "metadata": {},
   "outputs": [
    {
     "name": "stdout",
     "output_type": "stream",
     "text": [
      "<mojito.koreainvestment.KoreaInvestment object at 0x107fca130>\n"
     ]
    }
   ],
   "source": [
    "import mojito\n",
    "\n",
    "api_text = open('./kis-mock-keys.txt', 'r')\n",
    "lines = api_text.readlines()\n",
    "\n",
    "# read api_key, secret_key, account number from the file\n",
    "api_key = lines[0].strip()\n",
    "secret_key = lines[1].strip()\n",
    "acc_no = lines[2].strip()\n",
    "api_text.close()\n",
    "\n",
    "broker = mojito.KoreaInvestment(\n",
    "    api_key=api_key,\n",
    "    api_secret=secret_key,\n",
    "    acc_no=acc_no, # 계좌번호 - 가 꼭 있어야함! (ex: 12341234-01)\n",
    "    mock=True # 이번에는 모의투자로 진행!!\n",
    ")\n",
    "\n",
    "print(broker) # valid for 24 hours"
   ]
  },
  {
   "cell_type": "code",
   "execution_count": 9,
   "metadata": {},
   "outputs": [
    {
     "name": "stdout",
     "output_type": "stream",
     "text": [
      "{'output1': [], 'output2': [{'dnca_tot_amt': '10000000', 'nxdy_excc_amt': '10000000', 'prvs_rcdl_excc_amt': '10000000', 'cma_evlu_amt': '0', 'bfdy_buy_amt': '0', 'thdt_buy_amt': '0', 'nxdy_auto_rdpt_amt': '0', 'bfdy_sll_amt': '0', 'thdt_sll_amt': '0', 'd2_auto_rdpt_amt': '0', 'bfdy_tlex_amt': '0', 'thdt_tlex_amt': '0', 'tot_loan_amt': '0', 'scts_evlu_amt': '0', 'tot_evlu_amt': '10000000', 'nass_amt': '10000000', 'fncg_gld_auto_rdpt_yn': '', 'pchs_amt_smtl_amt': '0', 'evlu_amt_smtl_amt': '0', 'evlu_pfls_smtl_amt': '0', 'tot_stln_slng_chgs': '0', 'bfdy_tot_asst_evlu_amt': '10000000', 'asst_icdc_amt': '0', 'asst_icdc_erng_rt': '0.00000000'}]}\n"
     ]
    }
   ],
   "source": [
    "balance = #TODO\n",
    "print(balance) # 계정에 정보를 가져옴"
   ]
  },
  {
   "cell_type": "code",
   "execution_count": 7,
   "metadata": {},
   "outputs": [],
   "source": [
    "# 계좌에 있는 종목들을 가져와서 출력\n",
    "for comp in balance['output1']:\n",
    "    #TODO: print 종목번호, 종목명, 보유수량, 매입금액, 평가금액\n",
    "    pass"
   ]
  },
  {
   "cell_type": "markdown",
   "metadata": {},
   "source": [
    "## 매수 및 매도 주문"
   ]
  },
  {
   "cell_type": "markdown",
   "metadata": {},
   "source": [
    "### 지정가 매수\n",
    "원하는 가격에 주식을 매수하는 방식\n",
    "\n",
    "- 아래 함수를 이용해서 지정가 매수 주문 가능:\n",
    "    ```python\n",
    "    (method) def create_limit_buy_order(\n",
    "        symbol: str,\n",
    "        price: int,\n",
    "        quantity: int\n",
    "    ) -> dict:\n",
    "    ```\n",
    "- Args:\n",
    "  - symbol (str): 종목코드\n",
    "  - price (int): 가격\n",
    "  - quantity (int): 수량\n",
    "- Returns:\n",
    "  - dict: _description_"
   ]
  },
  {
   "cell_type": "code",
   "execution_count": 10,
   "metadata": {},
   "outputs": [
    {
     "name": "stdout",
     "output_type": "stream",
     "text": [
      "{'rt_cd': '1', 'msg_cd': '40580000', 'msg1': '모의투자 장종료 입니다.'}\n"
     ]
    }
   ],
   "source": [
    "limit_buy_order = broker.create_limit_buy_order(\n",
    "    #TODO: implement\n",
    ")\n",
    "\n",
    "print(limit_buy_order) # 주문 결과를 출력\n",
    "\n",
    "# {'msg1': '주문 전송 완료 되었습니다.',\n",
    "#  'msg_cd': 'APBK0013',\n",
    "#  'output': {'KRX_FWDG_ORD_ORGNO': '91252',\n",
    "#             'ODNO': '0000041289',\n",
    "#             'ORD_TMD': '091359'},\n",
    "#  'rt_cd': '0'}"
   ]
  },
  {
   "cell_type": "markdown",
   "metadata": {},
   "source": [
    "### 시장가 매수\n",
    "시장의 가격에 맞춰 알아서 주문을 넣는 방식 --> 주문 가격 입력 불필요\n",
    "\n",
    "- 아래 함수를 이용해서 시장가 매수 주문 가능:\n",
    "    ```python\n",
    "    (method) def create_market_buy_order(\n",
    "        symbol: str,\n",
    "        quantity: int\n",
    "    ) -> dict\n",
    "    ```\n",
    "- Args:\n",
    "  - symbol (str): symbol\n",
    "  - quantity (int): quantity\n",
    "- Returns:\n",
    "  - dict: _description_"
   ]
  },
  {
   "cell_type": "code",
   "execution_count": 11,
   "metadata": {},
   "outputs": [
    {
     "name": "stdout",
     "output_type": "stream",
     "text": [
      "{'rt_cd': '1', 'msg_cd': '40580000', 'msg1': '모의투자 장종료 입니다.'}\n"
     ]
    }
   ],
   "source": [
    "market_buy_order = broker.create_market_buy_order(\n",
    "    #TODO: implement\n",
    ")\n",
    "\n",
    "print(market_buy_order) # 주문 결과를 출력\n",
    "\n",
    "# {'msg1': '주문 전송 완료 되었습니다.',\n",
    "#  'msg_cd': 'APBK0013',\n",
    "#  'output': {'KRX_FWDG_ORD_ORGNO': '91252',\n",
    "#             'ODNO': '0000026614',\n",
    "#             'ORD_TMD': '090312'},\n",
    "#  'rt_cd': '0'}"
   ]
  },
  {
   "cell_type": "markdown",
   "metadata": {},
   "source": [
    "### 지정가 매도\n",
    "원하는 가격에 주식을 매도하는 방식\n",
    "\n",
    "- 아래 함수를 이용해서 지정가 매도 주문 가능:\n",
    "    ```python\n",
    "    (method) def create_limit_sell_order(\n",
    "        symbol: str,\n",
    "        price: int,\n",
    "        quantity: int\n",
    "    ) -> dict\n",
    "    ```\n",
    "- Args:\n",
    "  - symbol (str): _description_\n",
    "  - price (int): _description_\n",
    "  - quantity (int): _description_\n",
    "- Returns:\n",
    "  - dict: _description_"
   ]
  },
  {
   "cell_type": "code",
   "execution_count": 17,
   "metadata": {},
   "outputs": [
    {
     "name": "stdout",
     "output_type": "stream",
     "text": [
      "{'rt_cd': '1', 'msg_cd': '40580000', 'msg1': '모의투자 장종료 입니다.'}\n"
     ]
    },
    {
     "data": {
      "text/plain": [
       "\"\\n{'msg1': '주문 전송 완료 되었습니다.',\\n 'msg_cd': 'APBK0013',\\n 'output': {'KRX_FWDG_ORD_ORGNO': '91252',\\n            'ODNO': '0000043808',\\n            'ORD_TMD': '091617'},\\n 'rt_cd': '0'}\\n \""
      ]
     },
     "execution_count": 17,
     "metadata": {},
     "output_type": "execute_result"
    }
   ],
   "source": [
    "limit_sell_order = broker.create_limit_sell_order(\n",
    "    #TODO: implement\n",
    ")\n",
    "\n",
    "print(limit_sell_order) # 주문 결과를 출력\n",
    "\n",
    "# {'msg1': '주문 전송 완료 되었습니다.',\n",
    "#  'msg_cd': 'APBK0013',\n",
    "#  'output': {'KRX_FWDG_ORD_ORGNO': '91252',\n",
    "#             'ODNO': '0000043808',\n",
    "#             'ORD_TMD': '091617'},\n",
    "#  'rt_cd': '0'}"
   ]
  },
  {
   "cell_type": "markdown",
   "metadata": {},
   "source": [
    "# 시장가 매도\n",
    "시장의 가격에 맞춰 알아서 주문을 넣는 방식 --> 주문 가격 입력 불필요\n",
    "\n",
    "- 아래 함수를 이용해서 시장가 매도 주문 가능:\n",
    "    ```python\n",
    "    (method) def create_market_sell_order(\n",
    "        symbol: str,\n",
    "        quantity: int\n",
    "    ) -> dict\n",
    "    ```\n",
    "- Args:\n",
    "  - symbol (str): _description_\n",
    "  - quantity (int): _description_\n",
    "- Returns:\n",
    "  - dict: _description_"
   ]
  },
  {
   "cell_type": "code",
   "execution_count": 18,
   "metadata": {},
   "outputs": [
    {
     "name": "stdout",
     "output_type": "stream",
     "text": [
      "{'rt_cd': '1', 'msg_cd': '40580000', 'msg1': '모의투자 장종료 입니다.'}\n"
     ]
    }
   ],
   "source": [
    "market_sell_order = broker.create_market_sell_order(\n",
    "   #TODO: implement\n",
    ")\n",
    "\n",
    "print(market_sell_order)\n",
    "\n",
    "\n",
    "# {'msg1': '주문 전송 완료 되었습니다.',\n",
    "#  'msg_cd': 'APBK0013',\n",
    "#  'output': {'KRX_FWDG_ORD_ORGNO': '91252',\n",
    "#             'ODNO': '0000050816',\n",
    "#             'ORD_TMD': '092331'},\n",
    "#  'rt_cd': '0'}"
   ]
  },
  {
   "cell_type": "markdown",
   "metadata": {},
   "source": [
    "## 주문 취소\n",
    "- 아래 함수를 이용해서 주문 취소 가능:\n",
    "    ```python\n",
    "    (method) def cancel_order(\n",
    "        org_no: str, #주문을 넣었을때 받은 ['output']['KRX_FWDG_ORD_ORGNO'] 값\n",
    "        order_no: str, #주문을 넣었을때 받은 ['output']['ODNO'] 값\n",
    "        quantity: int,\n",
    "        total: bool,\n",
    "        order_type: str = \"00\",\n",
    "        price: int = 100\n",
    "    ) -> Any\n",
    "    ```\n",
    "- Args:\n",
    "  - org_no(str): organization number\n",
    "  - order_no (str): order number\n",
    "  - quantity (int): 수량\n",
    "  - total (bool): True (잔량전부), False (잔량일부)\n",
    "  - order_type (str): 주문구분\n",
    "  - price (int): 가격\n",
    "- Returns:\n",
    "  - dict\n",
    "\n",
    "참고: 주문구분 코드 (apidml 04. 국내주식주문 > 05. 주문 정정에 자세히 나와있음)\n",
    "- 00 : 지정가\n",
    "- 01 : 시장가\n",
    "- 02 : 조건부지정가\n",
    "- 03 : 최유리지정가\n",
    "- 04 : 최우선지정가\n",
    "- 05 : 장전 시간외\n",
    "- 06 : 장후 시간외\n",
    "- 07 : 시간외 단일가\n",
    "- 08 : 자기주식\n",
    "- 09 : 자기주식S-Option\n",
    "- 10 : 자기주식금전신탁\n",
    "- 11 : IOC지정가 (즉시체결,잔량취소)\n",
    "- 12 : FOK지정가 (즉시체결,전량취소)\n",
    "- 13 : IOC시장가 (즉시체결,잔량취소)\n",
    "- 14 : FOK시장가 (즉시체결,전량취소)\n",
    "- 15 : IOC최유리 (즉시체결,잔량취소)\n",
    "- 16 : FOK최유리 (즉시체결,전량취소)"
   ]
  },
  {
   "cell_type": "code",
   "execution_count": 21,
   "metadata": {},
   "outputs": [
    {
     "name": "stdout",
     "output_type": "stream",
     "text": [
      "{'rt_cd': '1', 'msg_cd': '40320000', 'msg1': '모의투자 원주문번호가 존재하지 않습니다.'}\n"
     ]
    }
   ],
   "source": [
    "# 주문에 대한 전체 주문수량 취소\n",
    "\n",
    "tot_cancel_order = broker.cancel_order(\n",
    "    #TODO: implement\n",
    ")\n",
    "\n",
    "print(tot_cancel_order) # 주문 결과를 \n",
    "\n",
    "# {'msg1': '주문 전송 완료 되었습니다.',\n",
    "#  'msg_cd': 'APBK0013',\n",
    "#  'output': {'KRX_FWDG_ORD_ORGNO': '91252',\n",
    "#             'ODNO': '0000039303',\n",
    "#             'ORD_TMD': '091223'},\n",
    "#  'rt_cd': '0'}"
   ]
  },
  {
   "cell_type": "code",
   "execution_count": 22,
   "metadata": {},
   "outputs": [
    {
     "name": "stdout",
     "output_type": "stream",
     "text": [
      "{'rt_cd': '1', 'msg_cd': '40320000', 'msg1': '모의투자 원주문번호가 존재하지 않습니다.'}\n"
     ]
    }
   ],
   "source": [
    "# 주문에 대한 일부 주문수량 취소\n",
    "\n",
    "partial_cancel_order = broker.cancel_order(\n",
    "    #TODO: implement\n",
    ")\n",
    "\n",
    "print(partial_cancel_order) # 주문 결과를 출력"
   ]
  },
  {
   "cell_type": "markdown",
   "metadata": {},
   "source": [
    "## 주문 정정\n",
    "- 아래 함수를 이용해서 주문 정정 가능:\n",
    "    ```python\n",
    "    (method) def modify_order(\n",
    "        org_no: str,\n",
    "        order_no: str,\n",
    "        order_type: str,\n",
    "        price: int,\n",
    "        quantity: int,\n",
    "        total: bool\n",
    "    ) -> Any\n",
    "    ```\n",
    "- Args:\n",
    "  - org_no(str): organization number\n",
    "  - order_no (str): order number\n",
    "  - order_type (str): 주문구분\n",
    "  - price (int): 가격\n",
    "  - quantity (int): 수량\n",
    "  - total (bool): True (잔량전부), False (잔량일부)\n",
    "- Returns:\n",
    "  - dict : _description_"
   ]
  },
  {
   "cell_type": "code",
   "execution_count": 24,
   "metadata": {},
   "outputs": [
    {
     "name": "stdout",
     "output_type": "stream",
     "text": [
      "{'rt_cd': '1', 'msg_cd': '40320000', 'msg1': '모의투자 원주문번호가 존재하지 않습니다.'}\n"
     ]
    }
   ],
   "source": [
    "# 전체 수량 정정\n",
    "\n",
    "tot_modify_order = broker.modify_order(\n",
    "    #TODO: implement\n",
    ")\n",
    "\n",
    "print(tot_modify_order) # 주문 결과를 출력"
   ]
  },
  {
   "cell_type": "code",
   "execution_count": 25,
   "metadata": {},
   "outputs": [
    {
     "name": "stdout",
     "output_type": "stream",
     "text": [
      "{'rt_cd': '1', 'msg_cd': '40320000', 'msg1': '모의투자 원주문번호가 존재하지 않습니다.'}\n"
     ]
    }
   ],
   "source": [
    "# 일부 수량 정정\n",
    "\n",
    "partial_modify_order = broker.modify_order(\n",
    "    #TODO: implement\n",
    ")\n",
    "\n",
    "print(partial_modify_order) # 주문 결과를 출력"
   ]
  }
 ],
 "metadata": {
  "kernelspec": {
   "display_name": "pyenv",
   "language": "python",
   "name": "python3"
  },
  "language_info": {
   "codemirror_mode": {
    "name": "ipython",
    "version": 3
   },
   "file_extension": ".py",
   "mimetype": "text/x-python",
   "name": "python",
   "nbconvert_exporter": "python",
   "pygments_lexer": "ipython3",
   "version": "3.8.19"
  }
 },
 "nbformat": 4,
 "nbformat_minor": 2
}
