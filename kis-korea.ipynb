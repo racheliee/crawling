{
 "cells": [
  {
   "cell_type": "markdown",
   "metadata": {},
   "source": [
    "# 국내 주식 주문 및 시세\n",
    "- 지금 장이 닫혀서 실제 주문이 들어가질 않음. 아웃풋이 실패했다고 나오지만, 장이 열렸을때는 성공적으로 주문이 들어감.\n",
    "- 성공적으로 주문이 들어갔을떄의 아웃풋은 주석으로 첨부해놓음"
   ]
  },
  {
   "cell_type": "markdown",
   "metadata": {},
   "source": [
    "## 잔고 조회\n",
    "```python\n",
    "broker.fetch_balance()\n",
    "```\n",
    "- 잔고 조회\n",
    "- ret val: dict\n",
    "- 주요 key:\n",
    "  - `tot_evlu_amt`: 총 평가금액\n",
    "  - `dcna_tot_amt`: 예수금 \n",
    "- api 자체는 약간 다른 변수명을 사용하긴 함 [공식 오픈 api 페이지](https://apiportal.koreainvestment.com/apiservice/apiservice-domestic-stock-order#L_052c663e-73db-43ee-b1a0-702a14de31fc)"
   ]
  },
  {
   "cell_type": "code",
   "execution_count": 3,
   "metadata": {},
   "outputs": [
    {
     "name": "stdout",
     "output_type": "stream",
     "text": [
      "<mojito.koreainvestment.KoreaInvestment object at 0x11ec03190>\n"
     ]
    }
   ],
   "source": [
    "import mojito\n",
    "\n",
    "api_text = open('./kis-mock-keys.txt', 'r')\n",
    "lines = api_text.readlines()\n",
    "\n",
    "# read api_key, secret_key, account number from the file\n",
    "api_key = lines[0].strip()\n",
    "secret_key = lines[1].strip()\n",
    "acc_no = lines[2].strip()\n",
    "api_text.close()\n",
    "\n",
    "broker = mojito.KoreaInvestment(\n",
    "    api_key=api_key,\n",
    "    api_secret=secret_key,\n",
    "    acc_no=acc_no, # 계좌번호 - 가 꼭 있어야함! (ex: 12341234-01)\n",
    "    mock=True # 이번에는 모의투자로 진행!!\n",
    ")\n",
    "\n",
    "print(broker) # valid for 24 hours"
   ]
  },
  {
   "cell_type": "code",
   "execution_count": 4,
   "metadata": {},
   "outputs": [
    {
     "name": "stdout",
     "output_type": "stream",
     "text": [
      "{'output1': [], 'output2': [{'dnca_tot_amt': '10000000', 'nxdy_excc_amt': '10000000', 'prvs_rcdl_excc_amt': '10000000', 'cma_evlu_amt': '0', 'bfdy_buy_amt': '0', 'thdt_buy_amt': '0', 'nxdy_auto_rdpt_amt': '0', 'bfdy_sll_amt': '0', 'thdt_sll_amt': '0', 'd2_auto_rdpt_amt': '0', 'bfdy_tlex_amt': '0', 'thdt_tlex_amt': '0', 'tot_loan_amt': '0', 'scts_evlu_amt': '0', 'tot_evlu_amt': '10000000', 'nass_amt': '10000000', 'fncg_gld_auto_rdpt_yn': '', 'pchs_amt_smtl_amt': '0', 'evlu_amt_smtl_amt': '0', 'evlu_pfls_smtl_amt': '0', 'tot_stln_slng_chgs': '0', 'bfdy_tot_asst_evlu_amt': '10000000', 'asst_icdc_amt': '0', 'asst_icdc_erng_rt': '0.00000000'}]}\n"
     ]
    }
   ],
   "source": [
    "balance = broker.fetch_balance()\n",
    "print(balance) # 계정에 정보를 가져옴"
   ]
  },
  {
   "cell_type": "code",
   "execution_count": 5,
   "metadata": {},
   "outputs": [],
   "source": [
    "# 계좌에 있는 종목들을 가져와서 출력\n",
    "for comp in balance['output1']:\n",
    "    print(comp['pdno'])         # 종목번호\n",
    "    print(comp['prdt_name'])    # 종목명\n",
    "    print(comp['hldg_qty'])     # 보유수량\n",
    "    print(comp['pchs_amt'])     # 매입금액\n",
    "    print(comp['evlu_amt'])     # 평가금액\n",
    "    print(\"-\" * 40)"
   ]
  },
  {
   "cell_type": "markdown",
   "metadata": {},
   "source": [
    "## 매수 및 매도 주문"
   ]
  },
  {
   "cell_type": "markdown",
   "metadata": {},
   "source": [
    "### 지정가 매수\n",
    "원하는 가격에 주식을 매수하는 방식\n",
    "\n",
    "- 아래 함수를 이용해서 지정가 매수 주문 가능:\n",
    "    ```python\n",
    "    (method) def create_limit_buy_order(\n",
    "        symbol: str,\n",
    "        price: int,\n",
    "        quantity: int\n",
    "    ) -> dict:\n",
    "    ```\n",
    "- Args:\n",
    "  - symbol (str): 종목코드\n",
    "  - price (int): 가격\n",
    "  - quantity (int): 수량\n",
    "- Returns:\n",
    "  - dict: _description_"
   ]
  },
  {
   "cell_type": "code",
   "execution_count": 6,
   "metadata": {},
   "outputs": [
    {
     "name": "stdout",
     "output_type": "stream",
     "text": [
      "{'rt_cd': '1', 'msg_cd': '40580000', 'msg1': '모의투자 장종료 입니다.'}\n"
     ]
    }
   ],
   "source": [
    "limit_buy_order = broker.create_limit_buy_order(\n",
    "    symbol='005930', # 종목번호\n",
    "    price=85000, # 주문가격\n",
    "    quantity=1 # 주문수량\n",
    ")\n",
    "\n",
    "print(limit_buy_order) # 주문 결과를 출력\n",
    "\n",
    "# {'msg1': '주문 전송 완료 되었습니다.',\n",
    "#  'msg_cd': 'APBK0013',\n",
    "#  'output': {'KRX_FWDG_ORD_ORGNO': '91252',\n",
    "#             'ODNO': '0000041289',\n",
    "#             'ORD_TMD': '091359'},\n",
    "#  'rt_cd': '0'}"
   ]
  },
  {
   "cell_type": "markdown",
   "metadata": {},
   "source": [
    "### 시장가 매수\n",
    "시장의 가격에 맞춰 알아서 주문을 넣는 방식 --> 주문 가격 입력 불필요\n",
    "\n",
    "- 아래 함수를 이용해서 시장가 매수 주문 가능:\n",
    "    ```python\n",
    "    (method) def create_market_buy_order(\n",
    "        symbol: str,\n",
    "        quantity: int\n",
    "    ) -> dict\n",
    "    ```\n",
    "- Args:\n",
    "  - symbol (str): symbol\n",
    "  - quantity (int): quantity\n",
    "- Returns:\n",
    "  - dict: _description_"
   ]
  },
  {
   "cell_type": "code",
   "execution_count": 7,
   "metadata": {},
   "outputs": [
    {
     "name": "stdout",
     "output_type": "stream",
     "text": [
      "{'rt_cd': '1', 'msg_cd': 'EGW00201', 'msg1': '초당 거래건수를 초과하였습니다.'}\n"
     ]
    }
   ],
   "source": [
    "market_buy_order = broker.create_market_buy_order(\n",
    "    symbol='005930', # 종목번호\n",
    "    quantity=1 # 주문수량\n",
    ")\n",
    "\n",
    "print(market_buy_order) # 주문 결과를 출력\n",
    "\n",
    "# {'msg1': '주문 전송 완료 되었습니다.',\n",
    "#  'msg_cd': 'APBK0013',\n",
    "#  'output': {'KRX_FWDG_ORD_ORGNO': '91252',\n",
    "#             'ODNO': '0000026614',\n",
    "#             'ORD_TMD': '090312'},\n",
    "#  'rt_cd': '0'}"
   ]
  },
  {
   "cell_type": "markdown",
   "metadata": {},
   "source": [
    "### 지정가 매도\n",
    "원하는 가격에 주식을 매도하는 방식\n",
    "\n",
    "- 아래 함수를 이용해서 지정가 매도 주문 가능:\n",
    "    ```python\n",
    "    (method) def create_limit_sell_order(\n",
    "        symbol: str,\n",
    "        price: int,\n",
    "        quantity: int\n",
    "    ) -> dict\n",
    "    ```\n",
    "- Args:\n",
    "  - symbol (str): _description_\n",
    "  - price (int): _description_\n",
    "  - quantity (int): _description_\n",
    "- Returns:\n",
    "  - dict: _description_"
   ]
  },
  {
   "cell_type": "code",
   "execution_count": 8,
   "metadata": {},
   "outputs": [
    {
     "name": "stdout",
     "output_type": "stream",
     "text": [
      "{'rt_cd': '1', 'msg_cd': '40580000', 'msg1': '모의투자 장종료 입니다.'}\n"
     ]
    }
   ],
   "source": [
    "limit_sell_order = broker.create_limit_sell_order(\n",
    "    symbol='005930', # 종목번호\n",
    "    price=60000, # 주문가격\n",
    "    quantity=1 # 주문수량\n",
    ")\n",
    "\n",
    "print(limit_sell_order) # 주문 결과를 출력\n",
    "\n",
    "# {'msg1': '주문 전송 완료 되었습니다.',\n",
    "#  'msg_cd': 'APBK0013',\n",
    "#  'output': {'KRX_FWDG_ORD_ORGNO': '91252',\n",
    "#             'ODNO': '0000043808',\n",
    "#             'ORD_TMD': '091617'},\n",
    "#  'rt_cd': '0'}"
   ]
  },
  {
   "cell_type": "markdown",
   "metadata": {},
   "source": [
    "# 시장가 매도\n",
    "시장의 가격에 맞춰 알아서 주문을 넣는 방식 --> 주문 가격 입력 불필요\n",
    "\n",
    "- 아래 함수를 이용해서 시장가 매도 주문 가능:\n",
    "    ```python\n",
    "    (method) def create_market_sell_order(\n",
    "        symbol: str,\n",
    "        quantity: int\n",
    "    ) -> dict\n",
    "    ```\n",
    "- Args:\n",
    "  - symbol (str): _description_\n",
    "  - quantity (int): _description_\n",
    "- Returns:\n",
    "  - dict: _description_"
   ]
  },
  {
   "cell_type": "code",
   "execution_count": 9,
   "metadata": {},
   "outputs": [
    {
     "name": "stdout",
     "output_type": "stream",
     "text": [
      "{'rt_cd': '1', 'msg_cd': '40580000', 'msg1': '모의투자 장종료 입니다.'}\n"
     ]
    }
   ],
   "source": [
    "market_sell_order = broker.create_market_sell_order(\n",
    "    symbol='005930', # 종목번호\n",
    "    quantity=4 # 주문수량\n",
    ")\n",
    "\n",
    "print(market_sell_order)\n",
    "\n",
    "\n",
    "# {'msg1': '주문 전송 완료 되었습니다.',\n",
    "#  'msg_cd': 'APBK0013',\n",
    "#  'output': {'KRX_FWDG_ORD_ORGNO': '91252',\n",
    "#             'ODNO': '0000050816',\n",
    "#             'ORD_TMD': '092331'},\n",
    "#  'rt_cd': '0'}"
   ]
  },
  {
   "cell_type": "markdown",
   "metadata": {},
   "source": [
    "## 주문 취소\n",
    "- 아래 함수를 이용해서 주문 취소 가능:\n",
    "    ```python\n",
    "    (method) def cancel_order(\n",
    "        org_no: str, #주문을 넣었을때 받은 ['output']['KRX_FWDG_ORD_ORGNO'] 값\n",
    "        order_no: str, #주문을 넣었을때 받은 ['output']['ODNO'] 값\n",
    "        quantity: int,\n",
    "        total: bool,\n",
    "        order_type: str = \"00\",\n",
    "        price: int = 100\n",
    "    ) -> Any\n",
    "    ```\n",
    "- Args:\n",
    "  - org_no(str): organization number\n",
    "  - order_no (str): order number\n",
    "  - quantity (int): 수량\n",
    "  - total (bool): True (잔량전부), False (잔량일부)\n",
    "  - order_type (str): 주문구분\n",
    "  - price (int): 가격\n",
    "- Returns:\n",
    "  - dict\n",
    "\n",
    "참고: 주문구분 코드 (apidml 04. 국내주식주문 > 05. 주문 정정에 자세히 나와있음)\n",
    "- 00 : 지정가\n",
    "- 01 : 시장가\n",
    "- 02 : 조건부지정가\n",
    "- 03 : 최유리지정가\n",
    "- 04 : 최우선지정가\n",
    "- 05 : 장전 시간외\n",
    "- 06 : 장후 시간외\n",
    "- 07 : 시간외 단일가\n",
    "- 08 : 자기주식\n",
    "- 09 : 자기주식S-Option\n",
    "- 10 : 자기주식금전신탁\n",
    "- 11 : IOC지정가 (즉시체결,잔량취소)\n",
    "- 12 : FOK지정가 (즉시체결,전량취소)\n",
    "- 13 : IOC시장가 (즉시체결,잔량취소)\n",
    "- 14 : FOK시장가 (즉시체결,전량취소)\n",
    "- 15 : IOC최유리 (즉시체결,잔량취소)\n",
    "- 16 : FOK최유리 (즉시체결,전량취소)"
   ]
  },
  {
   "cell_type": "code",
   "execution_count": 10,
   "metadata": {},
   "outputs": [
    {
     "name": "stdout",
     "output_type": "stream",
     "text": [
      "{'rt_cd': '1', 'msg_cd': 'EGW00201', 'msg1': '초당 거래건수를 초과하였습니다.'}\n"
     ]
    }
   ],
   "source": [
    "# 주문에 대한 전체 주문수량 취소\n",
    "\n",
    "tot_cancel_order = broker.cancel_order(\n",
    "    org_no=\"91252\", \n",
    "    order_no=\"0000050816\", # 주문을 넣었을때 받은 ['output']['ODNO'] 값\n",
    "    quantity=4,  # 잔량전부 취소시 원주문 수량과 일치해야함\n",
    "    total=True   # 잔량전부를 의미\n",
    ")\n",
    "\n",
    "print(tot_cancel_order) # 주문 결과를 \n",
    "\n",
    "# {'msg1': '주문 전송 완료 되었습니다.',\n",
    "#  'msg_cd': 'APBK0013',\n",
    "#  'output': {'KRX_FWDG_ORD_ORGNO': '91252',\n",
    "#             'ODNO': '0000039303',\n",
    "#             'ORD_TMD': '091223'},\n",
    "#  'rt_cd': '0'}"
   ]
  },
  {
   "cell_type": "code",
   "execution_count": 11,
   "metadata": {},
   "outputs": [
    {
     "name": "stdout",
     "output_type": "stream",
     "text": [
      "{'rt_cd': '1', 'msg_cd': 'EGW00201', 'msg1': '초당 거래건수를 초과하였습니다.'}\n"
     ]
    }
   ],
   "source": [
    "# 주문에 대한 일부 주문수량 취소\n",
    "\n",
    "partial_cancel_order = broker.cancel_order(\n",
    "    org_no=\"91252\", # 주문읋 넣었을때 받은 ['output']['ODNO'] 값\n",
    "    order_no=\"0000050816\",\n",
    "    quantity=1,  # 취소할 주문 수량\n",
    "    total=False   # 일부 취소를 의미\n",
    ")\n",
    "\n",
    "print(partial_cancel_order) # 주문 결과를 출력"
   ]
  },
  {
   "cell_type": "markdown",
   "metadata": {},
   "source": [
    "## 주문 정정\n",
    "- 아래 함수를 이용해서 주문 정정 가능:\n",
    "    ```python\n",
    "    (method) def modify_order(\n",
    "        org_no: str,\n",
    "        order_no: str,\n",
    "        order_type: str,\n",
    "        price: int,\n",
    "        quantity: int,\n",
    "        total: bool\n",
    "    ) -> Any\n",
    "    ```\n",
    "- Args:\n",
    "  - org_no(str): organization number\n",
    "  - order_no (str): order number\n",
    "  - order_type (str): 주문구분\n",
    "  - price (int): 가격\n",
    "  - quantity (int): 수량\n",
    "  - total (bool): True (잔량전부), False (잔량일부)\n",
    "- Returns:\n",
    "  - dict : _description_"
   ]
  },
  {
   "cell_type": "code",
   "execution_count": 12,
   "metadata": {},
   "outputs": [
    {
     "name": "stdout",
     "output_type": "stream",
     "text": [
      "{'rt_cd': '1', 'msg_cd': 'EGW00201', 'msg1': '초당 거래건수를 초과하였습니다.'}\n"
     ]
    }
   ],
   "source": [
    "# 전체 수량 정정\n",
    "\n",
    "tot_modify_order = broker.modify_order(\n",
    "    org_no=\"91252\",\n",
    "    order_no=\"0000138450\",\n",
    "    order_type=\"00\",\n",
    "    price=60000,\n",
    "    quantity=4, # 전체 수량이랑 일치해야함\n",
    "    total=True\n",
    ")\n",
    "\n",
    "print(tot_modify_order) # 주문 결과를 출력"
   ]
  },
  {
   "cell_type": "code",
   "execution_count": 13,
   "metadata": {},
   "outputs": [
    {
     "name": "stdout",
     "output_type": "stream",
     "text": [
      "{'rt_cd': '1', 'msg_cd': 'EGW00201', 'msg1': '초당 거래건수를 초과하였습니다.'}\n"
     ]
    }
   ],
   "source": [
    "# 일부 수량 정정\n",
    "\n",
    "partial_modify_order = broker.modify_order(\n",
    "    org_no=\"91252\",\n",
    "    order_no=\"0000138450\",\n",
    "    order_type=\"00\",\n",
    "    price=60000,\n",
    "    quantity=2, # 일부 수량\n",
    "    total=False\n",
    ")\n",
    "\n",
    "print(partial_modify_order) # 주문 결과를 출력"
   ]
  },
  {
   "cell_type": "markdown",
   "metadata": {},
   "source": [
    "# 일본/주봉/월봉 데이터 조회\n",
    "\n",
    "```python\n",
    "(method) def fetch_ohlcv(\n",
    "    symbol: str,\n",
    "    timeframe: str = 'D',\n",
    "    start_day: str = \"\",\n",
    "    end_day: str = \"\",\n",
    "    adj_price: bool = True\n",
    ") -> dict\n",
    "```\n",
    "\n",
    "- Args:\n",
    "    - symbol (str): 종목코드\n",
    "    - timeframe (str): \"D\" (일), \"W\" (주), \"M\" (월)\n",
    "    - start_day (str): 조회시작일자\n",
    "    - end_day (str): 조회종료일자\n",
    "    - adj_price (bool, optional): True: 수정주가 반영, False: 수정주가 미반영. Defaults to True.\n",
    "- Returns:\n",
    "  - dict: _description_"
   ]
  },
  {
   "cell_type": "code",
   "execution_count": 14,
   "metadata": {},
   "outputs": [
    {
     "name": "stdout",
     "output_type": "stream",
     "text": [
      "{'output1': {'prdy_vrss': '200', 'prdy_vrss_sign': '2', 'prdy_ctrt': '0.23', 'stck_prdy_clpr': '86700', 'acml_vol': '24237244', 'acml_tr_pbmn': '2062578890600', 'hts_kor_isnm': '삼성전자', 'stck_prpr': '86900', 'stck_shrn_iscd': '005930', 'prdy_vol': '18186490', 'stck_mxpr': '112700', 'stck_llam': '60700', 'stck_oprc': '83800', 'stck_hgpr': '86900', 'stck_lwpr': '83800', 'stck_prdy_oprc': '87100', 'stck_prdy_hgpr': '88000', 'stck_prdy_lwpr': '86400', 'askp': '87000', 'bidp': '86900', 'prdy_vrss_vol': '6050754', 'vol_tnrt': '0.41', 'stck_fcam': '100', 'lstn_stcn': '5969782550', 'cpfn': '7780', 'hts_avls': '5187741', 'per': '40.78', 'eps': '2131.00', 'pbr': '1.67', 'itewhol_loan_rmnd_ratem name': '0.12'}, 'output2': [{'stck_bsop_date': '20240718', 'stck_clpr': '86900', 'stck_oprc': '83800', 'stck_hgpr': '86900', 'stck_lwpr': '83800', 'acml_vol': '24237244', 'acml_tr_pbmn': '2062578890600', 'flng_cls_code': '00', 'prtt_rate': '0.00', 'mod_yn': 'N', 'prdy_vrss_sign': '2', 'prdy_vrss': '200', 'revl_issu_reas': ''}, {'stck_bsop_date': '20240717', 'stck_clpr': '86700', 'stck_oprc': '87100', 'stck_hgpr': '88000', 'stck_lwpr': '86400', 'acml_vol': '18186490', 'acml_tr_pbmn': '1585140028938', 'flng_cls_code': '00', 'prtt_rate': '0.00', 'mod_yn': 'N', 'prdy_vrss_sign': '5', 'prdy_vrss': '-1000', 'revl_issu_reas': ''}, {'stck_bsop_date': '20240716', 'stck_clpr': '87700', 'stck_oprc': '86900', 'stck_hgpr': '88000', 'stck_lwpr': '86700', 'acml_vol': '16166688', 'acml_tr_pbmn': '1413744130426', 'flng_cls_code': '00', 'prtt_rate': '0.00', 'mod_yn': 'N', 'prdy_vrss_sign': '2', 'prdy_vrss': '1000', 'revl_issu_reas': ''}, {'stck_bsop_date': '20240715', 'stck_clpr': '86700', 'stck_oprc': '84700', 'stck_hgpr': '87300', 'stck_lwpr': '84100', 'acml_vol': '25193080', 'acml_tr_pbmn': '2151182147147', 'flng_cls_code': '00', 'prtt_rate': '0.00', 'mod_yn': 'N', 'prdy_vrss_sign': '2', 'prdy_vrss': '2300', 'revl_issu_reas': ''}, {'stck_bsop_date': '20240712', 'stck_clpr': '84400', 'stck_oprc': '85900', 'stck_hgpr': '86100', 'stck_lwpr': '84100', 'acml_vol': '26344386', 'acml_tr_pbmn': '2234914589643', 'flng_cls_code': '00', 'prtt_rate': '0.00', 'mod_yn': 'N', 'prdy_vrss_sign': '5', 'prdy_vrss': '-3200', 'revl_issu_reas': ''}, {'stck_bsop_date': '20240711', 'stck_clpr': '87600', 'stck_oprc': '88500', 'stck_hgpr': '88800', 'stck_lwpr': '86700', 'acml_vol': '24677608', 'acml_tr_pbmn': '2164539095066', 'flng_cls_code': '00', 'prtt_rate': '0.00', 'mod_yn': 'N', 'prdy_vrss_sign': '5', 'prdy_vrss': '-200', 'revl_issu_reas': ''}, {'stck_bsop_date': '20240710', 'stck_clpr': '87800', 'stck_oprc': '87600', 'stck_hgpr': '88000', 'stck_lwpr': '87100', 'acml_vol': '17813848', 'acml_tr_pbmn': '1560911761680', 'flng_cls_code': '00', 'prtt_rate': '0.00', 'mod_yn': 'N', 'prdy_vrss_sign': '3', 'prdy_vrss': '0', 'revl_issu_reas': ''}, {'stck_bsop_date': '20240709', 'stck_clpr': '87800', 'stck_oprc': '87800', 'stck_hgpr': '88200', 'stck_lwpr': '86900', 'acml_vol': '21336200', 'acml_tr_pbmn': '1869414925283', 'flng_cls_code': '00', 'prtt_rate': '0.00', 'mod_yn': 'N', 'prdy_vrss_sign': '2', 'prdy_vrss': '400', 'revl_issu_reas': ''}, {'stck_bsop_date': '20240708', 'stck_clpr': '87400', 'stck_oprc': '87900', 'stck_hgpr': '88600', 'stck_lwpr': '86900', 'acml_vol': '24035808', 'acml_tr_pbmn': '2105162327800', 'flng_cls_code': '00', 'prtt_rate': '0.00', 'mod_yn': 'N', 'prdy_vrss_sign': '2', 'prdy_vrss': '300', 'revl_issu_reas': ''}, {'stck_bsop_date': '20240705', 'stck_clpr': '87100', 'stck_oprc': '85600', 'stck_hgpr': '87100', 'stck_lwpr': '85200', 'acml_vol': '45791192', 'acml_tr_pbmn': '3951280237696', 'flng_cls_code': '00', 'prtt_rate': '0.00', 'mod_yn': 'N', 'prdy_vrss_sign': '2', 'prdy_vrss': '2500', 'revl_issu_reas': ''}, {'stck_bsop_date': '20240704', 'stck_clpr': '84600', 'stck_oprc': '82900', 'stck_hgpr': '84700', 'stck_lwpr': '82400', 'acml_vol': '43857228', 'acml_tr_pbmn': '3679078036300', 'flng_cls_code': '00', 'prtt_rate': '0.00', 'mod_yn': 'N', 'prdy_vrss_sign': '2', 'prdy_vrss': '2800', 'revl_issu_reas': ''}, {'stck_bsop_date': '20240703', 'stck_clpr': '81800', 'stck_oprc': '82300', 'stck_hgpr': '82300', 'stck_lwpr': '81000', 'acml_vol': '11440328', 'acml_tr_pbmn': '933802003100', 'flng_cls_code': '00', 'prtt_rate': '0.00', 'mod_yn': 'N', 'prdy_vrss_sign': '3', 'prdy_vrss': '0', 'revl_issu_reas': ''}, {'stck_bsop_date': '20240702', 'stck_clpr': '81800', 'stck_oprc': '82500', 'stck_hgpr': '82600', 'stck_lwpr': '81500', 'acml_vol': '14471904', 'acml_tr_pbmn': '1186008163180', 'flng_cls_code': '00', 'prtt_rate': '0.00', 'mod_yn': 'N', 'prdy_vrss_sign': '3', 'prdy_vrss': '0', 'revl_issu_reas': ''}, {'stck_bsop_date': '20240701', 'stck_clpr': '81800', 'stck_oprc': '81500', 'stck_hgpr': '82100', 'stck_lwpr': '81300', 'acml_vol': '11317202', 'acml_tr_pbmn': '925400917400', 'flng_cls_code': '00', 'prtt_rate': '0.00', 'mod_yn': 'N', 'prdy_vrss_sign': '2', 'prdy_vrss': '300', 'revl_issu_reas': ''}, {'stck_bsop_date': '20240628', 'stck_clpr': '81500', 'stck_oprc': '81900', 'stck_hgpr': '81900', 'stck_lwpr': '80800', 'acml_vol': '9455929', 'acml_tr_pbmn': '768935755446', 'flng_cls_code': '00', 'prtt_rate': '0.00', 'mod_yn': 'N', 'prdy_vrss_sign': '5', 'prdy_vrss': '-100', 'revl_issu_reas': ''}, {'stck_bsop_date': '20240627', 'stck_clpr': '81600', 'stck_oprc': '81300', 'stck_hgpr': '81600', 'stck_lwpr': '80500', 'acml_vol': '11739720', 'acml_tr_pbmn': '953180945250', 'flng_cls_code': '00', 'prtt_rate': '0.00', 'mod_yn': 'N', 'prdy_vrss_sign': '2', 'prdy_vrss': '300', 'revl_issu_reas': ''}, {'stck_bsop_date': '20240626', 'stck_clpr': '81300', 'stck_oprc': '80100', 'stck_hgpr': '81400', 'stck_lwpr': '79900', 'acml_vol': '17783242', 'acml_tr_pbmn': '1436019023400', 'flng_cls_code': '00', 'prtt_rate': '0.00', 'mod_yn': 'N', 'prdy_vrss_sign': '2', 'prdy_vrss': '500', 'revl_issu_reas': ''}, {'stck_bsop_date': '20240625', 'stck_clpr': '80800', 'stck_oprc': '80600', 'stck_hgpr': '81800', 'stck_lwpr': '80100', 'acml_vol': '19088458', 'acml_tr_pbmn': '1545796110887', 'flng_cls_code': '00', 'prtt_rate': '0.00', 'mod_yn': 'N', 'prdy_vrss_sign': '2', 'prdy_vrss': '200', 'revl_issu_reas': ''}, {'stck_bsop_date': '20240624', 'stck_clpr': '80600', 'stck_oprc': '79700', 'stck_hgpr': '80900', 'stck_lwpr': '79500', 'acml_vol': '15454227', 'acml_tr_pbmn': '1239803887850', 'flng_cls_code': '00', 'prtt_rate': '0.00', 'mod_yn': 'N', 'prdy_vrss_sign': '2', 'prdy_vrss': '600', 'revl_issu_reas': ''}, {'stck_bsop_date': '20240621', 'stck_clpr': '80000', 'stck_oprc': '80700', 'stck_hgpr': '80800', 'stck_lwpr': '80000', 'acml_vol': '17907524', 'acml_tr_pbmn': '1437355033344', 'flng_cls_code': '00', 'prtt_rate': '0.00', 'mod_yn': 'N', 'prdy_vrss_sign': '5', 'prdy_vrss': '-1600', 'revl_issu_reas': ''}, {'stck_bsop_date': '20240620', 'stck_clpr': '81600', 'stck_oprc': '81500', 'stck_hgpr': '82200', 'stck_lwpr': '81200', 'acml_vol': '20288912', 'acml_tr_pbmn': '1658024402539', 'flng_cls_code': '00', 'prtt_rate': '0.00', 'mod_yn': 'N', 'prdy_vrss_sign': '2', 'prdy_vrss': '400', 'revl_issu_reas': ''}, {'stck_bsop_date': '20240619', 'stck_clpr': '81200', 'stck_oprc': '81100', 'stck_hgpr': '82500', 'stck_lwpr': '80500', 'acml_vol': '24168864', 'acml_tr_pbmn': '1965912177220', 'flng_cls_code': '00', 'prtt_rate': '0.00', 'mod_yn': 'N', 'prdy_vrss_sign': '2', 'prdy_vrss': '1400', 'revl_issu_reas': ''}, {'stck_bsop_date': '20240618', 'stck_clpr': '79800', 'stck_oprc': '78700', 'stck_hgpr': '80200', 'stck_lwpr': '78600', 'acml_vol': '18207598', 'acml_tr_pbmn': '1451893499146', 'flng_cls_code': '00', 'prtt_rate': '0.00', 'mod_yn': 'N', 'prdy_vrss_sign': '2', 'prdy_vrss': '1700', 'revl_issu_reas': ''}, {'stck_bsop_date': '20240617', 'stck_clpr': '78100', 'stck_oprc': '79200', 'stck_hgpr': '79500', 'stck_lwpr': '78000', 'acml_vol': '16123051', 'acml_tr_pbmn': '1267630623100', 'flng_cls_code': '00', 'prtt_rate': '0.00', 'mod_yn': 'N', 'prdy_vrss_sign': '5', 'prdy_vrss': '-1500', 'revl_issu_reas': ''}, {'stck_bsop_date': '20240614', 'stck_clpr': '79600', 'stck_oprc': '79700', 'stck_hgpr': '80500', 'stck_lwpr': '79000', 'acml_vol': '22926612', 'acml_tr_pbmn': '1830283253527', 'flng_cls_code': '00', 'prtt_rate': '0.00', 'mod_yn': 'N', 'prdy_vrss_sign': '2', 'prdy_vrss': '1000', 'revl_issu_reas': ''}, {'stck_bsop_date': '20240613', 'stck_clpr': '78600', 'stck_oprc': '78400', 'stck_hgpr': '79000', 'stck_lwpr': '77800', 'acml_vol': '33763804', 'acml_tr_pbmn': '2648772985232', 'flng_cls_code': '00', 'prtt_rate': '0.00', 'mod_yn': 'N', 'prdy_vrss_sign': '2', 'prdy_vrss': '2100', 'revl_issu_reas': ''}, {'stck_bsop_date': '20240612', 'stck_clpr': '76500', 'stck_oprc': '75300', 'stck_hgpr': '77100', 'stck_lwpr': '75200', 'acml_vol': '19246724', 'acml_tr_pbmn': '1460415323135', 'flng_cls_code': '00', 'prtt_rate': '0.00', 'mod_yn': 'N', 'prdy_vrss_sign': '2', 'prdy_vrss': '1300', 'revl_issu_reas': ''}, {'stck_bsop_date': '20240611', 'stck_clpr': '75200', 'stck_oprc': '75900', 'stck_hgpr': '76000', 'stck_lwpr': '75100', 'acml_vol': '16971176', 'acml_tr_pbmn': '1280831574634', 'flng_cls_code': '00', 'prtt_rate': '0.00', 'mod_yn': 'N', 'prdy_vrss_sign': '5', 'prdy_vrss': '-500', 'revl_issu_reas': ''}, {'stck_bsop_date': '20240610', 'stck_clpr': '75700', 'stck_oprc': '76100', 'stck_hgpr': '76600', 'stck_lwpr': '75600', 'acml_vol': '14598755', 'acml_tr_pbmn': '1109351578979', 'flng_cls_code': '00', 'prtt_rate': '0.00', 'mod_yn': 'N', 'prdy_vrss_sign': '5', 'prdy_vrss': '-1600', 'revl_issu_reas': ''}, {'stck_bsop_date': '20240607', 'stck_clpr': '77300', 'stck_oprc': '78400', 'stck_hgpr': '78600', 'stck_lwpr': '77100', 'acml_vol': '21189348', 'acml_tr_pbmn': '1645298001774', 'flng_cls_code': '00', 'prtt_rate': '0.00', 'mod_yn': 'N', 'prdy_vrss_sign': '5', 'prdy_vrss': '-100', 'revl_issu_reas': ''}, {'stck_bsop_date': '20240605', 'stck_clpr': '77400', 'stck_oprc': '78000', 'stck_hgpr': '78000', 'stck_lwpr': '76800', 'acml_vol': '23177968', 'acml_tr_pbmn': '1794236853400', 'flng_cls_code': '00', 'prtt_rate': '0.00', 'mod_yn': 'N', 'prdy_vrss_sign': '2', 'prdy_vrss': '2100', 'revl_issu_reas': ''}, {'stck_bsop_date': '20240604', 'stck_clpr': '75300', 'stck_oprc': '74900', 'stck_hgpr': '76100', 'stck_lwpr': '74900', 'acml_vol': '14098053', 'acml_tr_pbmn': '1065751349301', 'flng_cls_code': '00', 'prtt_rate': '0.00', 'mod_yn': 'N', 'prdy_vrss_sign': '5', 'prdy_vrss': '-400', 'revl_issu_reas': ''}, {'stck_bsop_date': '20240603', 'stck_clpr': '75700', 'stck_oprc': '74400', 'stck_hgpr': '76400', 'stck_lwpr': '74200', 'acml_vol': '15706268', 'acml_tr_pbmn': '1186657003206', 'flng_cls_code': '00', 'prtt_rate': '0.00', 'mod_yn': 'N', 'prdy_vrss_sign': '2', 'prdy_vrss': '2200', 'revl_issu_reas': ''}, {'stck_bsop_date': '20240531', 'stck_clpr': '73500', 'stck_oprc': '74500', 'stck_hgpr': '74700', 'stck_lwpr': '73500', 'acml_vol': '26198776', 'acml_tr_pbmn': '1935963757832', 'flng_cls_code': '00', 'prtt_rate': '0.00', 'mod_yn': 'N', 'prdy_vrss_sign': '3', 'prdy_vrss': '0', 'revl_issu_reas': ''}, {'stck_bsop_date': '20240530', 'stck_clpr': '73500', 'stck_oprc': '74800', 'stck_hgpr': '75200', 'stck_lwpr': '73500', 'acml_vol': '28551272', 'acml_tr_pbmn': '2117784497387', 'flng_cls_code': '00', 'prtt_rate': '0.00', 'mod_yn': 'N', 'prdy_vrss_sign': '5', 'prdy_vrss': '-1700', 'revl_issu_reas': ''}, {'stck_bsop_date': '20240529', 'stck_clpr': '75200', 'stck_oprc': '77700', 'stck_hgpr': '78200', 'stck_lwpr': '75200', 'acml_vol': '30244876', 'acml_tr_pbmn': '2312008038097', 'flng_cls_code': '00', 'prtt_rate': '0.00', 'mod_yn': 'N', 'prdy_vrss_sign': '5', 'prdy_vrss': '-2400', 'revl_issu_reas': ''}, {'stck_bsop_date': '20240528', 'stck_clpr': '77600', 'stck_oprc': '76500', 'stck_hgpr': '78000', 'stck_lwpr': '76200', 'acml_vol': '18539072', 'acml_tr_pbmn': '1436714901191', 'flng_cls_code': '00', 'prtt_rate': '0.00', 'mod_yn': 'N', 'prdy_vrss_sign': '2', 'prdy_vrss': '400', 'revl_issu_reas': ''}, {'stck_bsop_date': '20240527', 'stck_clpr': '77200', 'stck_oprc': '75300', 'stck_hgpr': '78200', 'stck_lwpr': '74000', 'acml_vol': '43825200', 'acml_tr_pbmn': '3306633382624', 'flng_cls_code': '00', 'prtt_rate': '0.00', 'mod_yn': 'N', 'prdy_vrss_sign': '2', 'prdy_vrss': '1300', 'revl_issu_reas': ''}, {'stck_bsop_date': '20240524', 'stck_clpr': '75900', 'stck_oprc': '76800', 'stck_hgpr': '77000', 'stck_lwpr': '75700', 'acml_vol': '27891278', 'acml_tr_pbmn': '2127292051700', 'flng_cls_code': '00', 'prtt_rate': '0.00', 'mod_yn': 'N', 'prdy_vrss_sign': '5', 'prdy_vrss': '-2400', 'revl_issu_reas': ''}, {'stck_bsop_date': '20240523', 'stck_clpr': '78300', 'stck_oprc': '77700', 'stck_hgpr': '79100', 'stck_lwpr': '77100', 'acml_vol': '18728088', 'acml_tr_pbmn': '1462378998195', 'flng_cls_code': '00', 'prtt_rate': '0.00', 'mod_yn': 'N', 'prdy_vrss_sign': '2', 'prdy_vrss': '600', 'revl_issu_reas': ''}, {'stck_bsop_date': '20240522', 'stck_clpr': '77700', 'stck_oprc': '78100', 'stck_hgpr': '78700', 'stck_lwpr': '77300', 'acml_vol': '19521506', 'acml_tr_pbmn': '1522590061360', 'flng_cls_code': '00', 'prtt_rate': '0.00', 'mod_yn': 'N', 'prdy_vrss_sign': '5', 'prdy_vrss': '-700', 'revl_issu_reas': ''}, {'stck_bsop_date': '20240521', 'stck_clpr': '78400', 'stck_oprc': '78500', 'stck_hgpr': '79000', 'stck_lwpr': '78200', 'acml_vol': '13690583', 'acml_tr_pbmn': '1074830521150', 'flng_cls_code': '00', 'prtt_rate': '0.00', 'mod_yn': 'N', 'prdy_vrss_sign': '5', 'prdy_vrss': '-500', 'revl_issu_reas': ''}, {'stck_bsop_date': '20240520', 'stck_clpr': '78900', 'stck_oprc': '78100', 'stck_hgpr': '79100', 'stck_lwpr': '77900', 'acml_vol': '19456784', 'acml_tr_pbmn': '1528019966672', 'flng_cls_code': '00', 'prtt_rate': '0.00', 'mod_yn': 'N', 'prdy_vrss_sign': '2', 'prdy_vrss': '1500', 'revl_issu_reas': ''}, {'stck_bsop_date': '20240517', 'stck_clpr': '77400', 'stck_oprc': '78600', 'stck_hgpr': '78800', 'stck_lwpr': '77200', 'acml_vol': '15918201', 'acml_tr_pbmn': '1237640369900', 'flng_cls_code': '00', 'prtt_rate': '0.00', 'mod_yn': 'N', 'prdy_vrss_sign': '5', 'prdy_vrss': '-800', 'revl_issu_reas': ''}, {'stck_bsop_date': '20240516', 'stck_clpr': '78200', 'stck_oprc': '80200', 'stck_hgpr': '80300', 'stck_lwpr': '78100', 'acml_vol': '20989778', 'acml_tr_pbmn': '1656384883213', 'flng_cls_code': '00', 'prtt_rate': '0.00', 'mod_yn': 'N', 'prdy_vrss_sign': '5', 'prdy_vrss': '-100', 'revl_issu_reas': ''}, {'stck_bsop_date': '20240514', 'stck_clpr': '78300', 'stck_oprc': '78600', 'stck_hgpr': '78800', 'stck_lwpr': '77900', 'acml_vol': '11763992', 'acml_tr_pbmn': '920737809850', 'flng_cls_code': '00', 'prtt_rate': '0.00', 'mod_yn': 'N', 'prdy_vrss_sign': '5', 'prdy_vrss': '-100', 'revl_issu_reas': ''}, {'stck_bsop_date': '20240513', 'stck_clpr': '78400', 'stck_oprc': '79400', 'stck_hgpr': '79900', 'stck_lwpr': '77600', 'acml_vol': '18652344', 'acml_tr_pbmn': '1460962492700', 'flng_cls_code': '00', 'prtt_rate': '0.00', 'mod_yn': 'N', 'prdy_vrss_sign': '5', 'prdy_vrss': '-800', 'revl_issu_reas': ''}, {'stck_bsop_date': '20240510', 'stck_clpr': '79200', 'stck_oprc': '80400', 'stck_hgpr': '81100', 'stck_lwpr': '78900', 'acml_vol': '16976124', 'acml_tr_pbmn': '1351235284800', 'flng_cls_code': '00', 'prtt_rate': '0.00', 'mod_yn': 'N', 'prdy_vrss_sign': '5', 'prdy_vrss': '-500', 'revl_issu_reas': ''}, {'stck_bsop_date': '20240509', 'stck_clpr': '79700', 'stck_oprc': '81100', 'stck_hgpr': '81500', 'stck_lwpr': '79700', 'acml_vol': '18759936', 'acml_tr_pbmn': '1509119512100', 'flng_cls_code': '00', 'prtt_rate': '0.00', 'mod_yn': 'N', 'prdy_vrss_sign': '5', 'prdy_vrss': '-1600', 'revl_issu_reas': ''}, {'stck_bsop_date': '20240508', 'stck_clpr': '81300', 'stck_oprc': '80800', 'stck_hgpr': '81400', 'stck_lwpr': '80500', 'acml_vol': '13089576', 'acml_tr_pbmn': '1060566849818', 'flng_cls_code': '00', 'prtt_rate': '0.00', 'mod_yn': 'N', 'prdy_vrss_sign': '3', 'prdy_vrss': '0', 'revl_issu_reas': ''}, {'stck_bsop_date': '20240507', 'stck_clpr': '81300', 'stck_oprc': '79600', 'stck_hgpr': '81300', 'stck_lwpr': '79400', 'acml_vol': '26238868', 'acml_tr_pbmn': '2112619288066', 'flng_cls_code': '00', 'prtt_rate': '0.00', 'mod_yn': 'N', 'prdy_vrss_sign': '2', 'prdy_vrss': '3700', 'revl_issu_reas': ''}, {'stck_bsop_date': '20240503', 'stck_clpr': '77600', 'stck_oprc': '79000', 'stck_hgpr': '79000', 'stck_lwpr': '77500', 'acml_vol': '13151889', 'acml_tr_pbmn': '1028553770200', 'flng_cls_code': '00', 'prtt_rate': '0.00', 'mod_yn': 'N', 'prdy_vrss_sign': '5', 'prdy_vrss': '-400', 'revl_issu_reas': ''}, {'stck_bsop_date': '20240502', 'stck_clpr': '78000', 'stck_oprc': '77600', 'stck_hgpr': '78600', 'stck_lwpr': '77300', 'acml_vol': '18900640', 'acml_tr_pbmn': '1475152663496', 'flng_cls_code': '00', 'prtt_rate': '0.00', 'mod_yn': 'N', 'prdy_vrss_sign': '2', 'prdy_vrss': '500', 'revl_issu_reas': ''}, {'stck_bsop_date': '20240430', 'stck_clpr': '77500', 'stck_oprc': '77000', 'stck_hgpr': '78500', 'stck_lwpr': '76600', 'acml_vol': '19007008', 'acml_tr_pbmn': '1477530164700', 'flng_cls_code': '00', 'prtt_rate': '0.00', 'mod_yn': 'N', 'prdy_vrss_sign': '2', 'prdy_vrss': '800', 'revl_issu_reas': ''}, {'stck_bsop_date': '20240429', 'stck_clpr': '76700', 'stck_oprc': '77400', 'stck_hgpr': '77600', 'stck_lwpr': '76200', 'acml_vol': '14664474', 'acml_tr_pbmn': '1124365701771', 'flng_cls_code': '00', 'prtt_rate': '0.00', 'mod_yn': 'N', 'prdy_vrss_sign': '3', 'prdy_vrss': '0', 'revl_issu_reas': ''}, {'stck_bsop_date': '20240426', 'stck_clpr': '76700', 'stck_oprc': '77800', 'stck_hgpr': '77900', 'stck_lwpr': '76500', 'acml_vol': '12755629', 'acml_tr_pbmn': '982996902900', 'flng_cls_code': '00', 'prtt_rate': '0.00', 'mod_yn': 'N', 'prdy_vrss_sign': '2', 'prdy_vrss': '400', 'revl_issu_reas': ''}, {'stck_bsop_date': '20240425', 'stck_clpr': '76300', 'stck_oprc': '77300', 'stck_hgpr': '77500', 'stck_lwpr': '76300', 'acml_vol': '15549134', 'acml_tr_pbmn': '1195063612340', 'flng_cls_code': '00', 'prtt_rate': '0.00', 'mod_yn': 'N', 'prdy_vrss_sign': '5', 'prdy_vrss': '-2300', 'revl_issu_reas': ''}, {'stck_bsop_date': '20240424', 'stck_clpr': '78600', 'stck_oprc': '77500', 'stck_hgpr': '78800', 'stck_lwpr': '77200', 'acml_vol': '22166150', 'acml_tr_pbmn': '1732478787054', 'flng_cls_code': '00', 'prtt_rate': '0.00', 'mod_yn': 'N', 'prdy_vrss_sign': '2', 'prdy_vrss': '3100', 'revl_issu_reas': ''}, {'stck_bsop_date': '20240423', 'stck_clpr': '75500', 'stck_oprc': '76400', 'stck_hgpr': '76800', 'stck_lwpr': '75500', 'acml_vol': '18717700', 'acml_tr_pbmn': '1424154641605', 'flng_cls_code': '00', 'prtt_rate': '0.00', 'mod_yn': 'N', 'prdy_vrss_sign': '5', 'prdy_vrss': '-600', 'revl_issu_reas': ''}, {'stck_bsop_date': '20240422', 'stck_clpr': '76100', 'stck_oprc': '77400', 'stck_hgpr': '77500', 'stck_lwpr': '75100', 'acml_vol': '30469476', 'acml_tr_pbmn': '2320445983561', 'flng_cls_code': '00', 'prtt_rate': '0.00', 'mod_yn': 'N', 'prdy_vrss_sign': '5', 'prdy_vrss': '-1500', 'revl_issu_reas': ''}, {'stck_bsop_date': '20240419', 'stck_clpr': '77600', 'stck_oprc': '78300', 'stck_hgpr': '78700', 'stck_lwpr': '76300', 'acml_vol': '31317564', 'acml_tr_pbmn': '2423649194900', 'flng_cls_code': '00', 'prtt_rate': '0.00', 'mod_yn': 'N', 'prdy_vrss_sign': '5', 'prdy_vrss': '-2000', 'revl_issu_reas': ''}, {'stck_bsop_date': '20240418', 'stck_clpr': '79600', 'stck_oprc': '78800', 'stck_hgpr': '80100', 'stck_lwpr': '78300', 'acml_vol': '21370190', 'acml_tr_pbmn': '1694196738983', 'flng_cls_code': '00', 'prtt_rate': '0.00', 'mod_yn': 'N', 'prdy_vrss_sign': '2', 'prdy_vrss': '700', 'revl_issu_reas': ''}, {'stck_bsop_date': '20240417', 'stck_clpr': '78900', 'stck_oprc': '80700', 'stck_hgpr': '80800', 'stck_lwpr': '78900', 'acml_vol': '22611632', 'acml_tr_pbmn': '1800985510820', 'flng_cls_code': '00', 'prtt_rate': '0.00', 'mod_yn': 'N', 'prdy_vrss_sign': '5', 'prdy_vrss': '-1100', 'revl_issu_reas': ''}, {'stck_bsop_date': '20240416', 'stck_clpr': '80000', 'stck_oprc': '81200', 'stck_hgpr': '81300', 'stck_lwpr': '79400', 'acml_vol': '31949844', 'acml_tr_pbmn': '2564077294862', 'flng_cls_code': '00', 'prtt_rate': '0.00', 'mod_yn': 'N', 'prdy_vrss_sign': '5', 'prdy_vrss': '-2200', 'revl_issu_reas': ''}, {'stck_bsop_date': '20240415', 'stck_clpr': '82200', 'stck_oprc': '82900', 'stck_hgpr': '83200', 'stck_lwpr': '81200', 'acml_vol': '26663772', 'acml_tr_pbmn': '2187767452704', 'flng_cls_code': '00', 'prtt_rate': '0.00', 'mod_yn': 'N', 'prdy_vrss_sign': '5', 'prdy_vrss': '-1500', 'revl_issu_reas': ''}, {'stck_bsop_date': '20240412', 'stck_clpr': '83700', 'stck_oprc': '84700', 'stck_hgpr': '84900', 'stck_lwpr': '83200', 'acml_vol': '17061770', 'acml_tr_pbmn': '1429686717552', 'flng_cls_code': '00', 'prtt_rate': '0.00', 'mod_yn': 'N', 'prdy_vrss_sign': '5', 'prdy_vrss': '-400', 'revl_issu_reas': ''}, {'stck_bsop_date': '20240411', 'stck_clpr': '84100', 'stck_oprc': '83200', 'stck_hgpr': '84700', 'stck_lwpr': '82500', 'acml_vol': '25538008', 'acml_tr_pbmn': '2138954129378', 'flng_cls_code': '00', 'prtt_rate': '0.00', 'mod_yn': 'N', 'prdy_vrss_sign': '2', 'prdy_vrss': '500', 'revl_issu_reas': ''}, {'stck_bsop_date': '20240409', 'stck_clpr': '83600', 'stck_oprc': '84500', 'stck_hgpr': '84900', 'stck_lwpr': '83100', 'acml_vol': '23725956', 'acml_tr_pbmn': '1991486775844', 'flng_cls_code': '00', 'prtt_rate': '0.00', 'mod_yn': 'N', 'prdy_vrss_sign': '5', 'prdy_vrss': '-900', 'revl_issu_reas': ''}, {'stck_bsop_date': '20240408', 'stck_clpr': '84500', 'stck_oprc': '85200', 'stck_hgpr': '86000', 'stck_lwpr': '84500', 'acml_vol': '18953232', 'acml_tr_pbmn': '1614571568700', 'flng_cls_code': '00', 'prtt_rate': '0.00', 'mod_yn': 'N', 'prdy_vrss_sign': '3', 'prdy_vrss': '0', 'revl_issu_reas': ''}, {'stck_bsop_date': '20240405', 'stck_clpr': '84500', 'stck_oprc': '84500', 'stck_hgpr': '85000', 'stck_lwpr': '83800', 'acml_vol': '18883752', 'acml_tr_pbmn': '1593633428500', 'flng_cls_code': '00', 'prtt_rate': '0.00', 'mod_yn': 'N', 'prdy_vrss_sign': '5', 'prdy_vrss': '-800', 'revl_issu_reas': ''}, {'stck_bsop_date': '20240404', 'stck_clpr': '85300', 'stck_oprc': '85200', 'stck_hgpr': '85500', 'stck_lwpr': '84300', 'acml_vol': '25248934', 'acml_tr_pbmn': '2147309658606', 'flng_cls_code': '00', 'prtt_rate': '0.00', 'mod_yn': 'N', 'prdy_vrss_sign': '2', 'prdy_vrss': '1200', 'revl_issu_reas': ''}, {'stck_bsop_date': '20240403', 'stck_clpr': '84100', 'stck_oprc': '84300', 'stck_hgpr': '85000', 'stck_lwpr': '83500', 'acml_vol': '30493348', 'acml_tr_pbmn': '2570591804242', 'flng_cls_code': '00', 'prtt_rate': '0.00', 'mod_yn': 'N', 'prdy_vrss_sign': '5', 'prdy_vrss': '-900', 'revl_issu_reas': ''}, {'stck_bsop_date': '20240402', 'stck_clpr': '85000', 'stck_oprc': '82900', 'stck_hgpr': '85000', 'stck_lwpr': '82900', 'acml_vol': '37077944', 'acml_tr_pbmn': '3125936951369', 'flng_cls_code': '00', 'prtt_rate': '0.00', 'mod_yn': 'N', 'prdy_vrss_sign': '2', 'prdy_vrss': '3000', 'revl_issu_reas': ''}, {'stck_bsop_date': '20240401', 'stck_clpr': '82000', 'stck_oprc': '83200', 'stck_hgpr': '83300', 'stck_lwpr': '82000', 'acml_vol': '20116512', 'acml_tr_pbmn': '1661276148500', 'flng_cls_code': '00', 'prtt_rate': '0.00', 'mod_yn': 'N', 'prdy_vrss_sign': '5', 'prdy_vrss': '-400', 'revl_issu_reas': ''}, {'stck_bsop_date': '20240329', 'stck_clpr': '82400', 'stck_oprc': '81200', 'stck_hgpr': '82500', 'stck_lwpr': '80900', 'acml_vol': '27126366', 'acml_tr_pbmn': '2224901311700', 'flng_cls_code': '00', 'prtt_rate': '0.00', 'mod_yn': 'N', 'prdy_vrss_sign': '2', 'prdy_vrss': '1600', 'revl_issu_reas': ''}, {'stck_bsop_date': '20240328', 'stck_clpr': '80800', 'stck_oprc': '79400', 'stck_hgpr': '81000', 'stck_lwpr': '79200', 'acml_vol': '25084812', 'acml_tr_pbmn': '2014951562108', 'flng_cls_code': '00', 'prtt_rate': '0.00', 'mod_yn': 'N', 'prdy_vrss_sign': '2', 'prdy_vrss': '1000', 'revl_issu_reas': ''}, {'stck_bsop_date': '20240327', 'stck_clpr': '79800', 'stck_oprc': '79200', 'stck_hgpr': '80000', 'stck_lwpr': '79200', 'acml_vol': '17424596', 'acml_tr_pbmn': '1387268449298', 'flng_cls_code': '00', 'prtt_rate': '0.00', 'mod_yn': 'N', 'prdy_vrss_sign': '5', 'prdy_vrss': '-100', 'revl_issu_reas': ''}, {'stck_bsop_date': '20240326', 'stck_clpr': '79900', 'stck_oprc': '79700', 'stck_hgpr': '80100', 'stck_lwpr': '79200', 'acml_vol': '30551494', 'acml_tr_pbmn': '2435792962320', 'flng_cls_code': '00', 'prtt_rate': '0.00', 'mod_yn': 'N', 'prdy_vrss_sign': '2', 'prdy_vrss': '1700', 'revl_issu_reas': ''}, {'stck_bsop_date': '20240325', 'stck_clpr': '78200', 'stck_oprc': '79600', 'stck_hgpr': '79800', 'stck_lwpr': '77800', 'acml_vol': '18703996', 'acml_tr_pbmn': '1472206590003', 'flng_cls_code': '00', 'prtt_rate': '0.00', 'mod_yn': 'N', 'prdy_vrss_sign': '5', 'prdy_vrss': '-700', 'revl_issu_reas': ''}, {'stck_bsop_date': '20240322', 'stck_clpr': '78900', 'stck_oprc': '79600', 'stck_hgpr': '79900', 'stck_lwpr': '77800', 'acml_vol': '26724760', 'acml_tr_pbmn': '2104543621700', 'flng_cls_code': '00', 'prtt_rate': '0.00', 'mod_yn': 'N', 'prdy_vrss_sign': '5', 'prdy_vrss': '-400', 'revl_issu_reas': ''}, {'stck_bsop_date': '20240321', 'stck_clpr': '79300', 'stck_oprc': '79200', 'stck_hgpr': '79300', 'stck_lwpr': '77700', 'acml_vol': '44569800', 'acml_tr_pbmn': '3509987699100', 'flng_cls_code': '00', 'prtt_rate': '0.00', 'mod_yn': 'N', 'prdy_vrss_sign': '2', 'prdy_vrss': '2400', 'revl_issu_reas': ''}, {'stck_bsop_date': '20240320', 'stck_clpr': '76900', 'stck_oprc': '73700', 'stck_hgpr': '77200', 'stck_lwpr': '73400', 'acml_vol': '50106296', 'acml_tr_pbmn': '3799218645198', 'flng_cls_code': '00', 'prtt_rate': '0.00', 'mod_yn': 'N', 'prdy_vrss_sign': '2', 'prdy_vrss': '4100', 'revl_issu_reas': ''}, {'stck_bsop_date': '20240319', 'stck_clpr': '72800', 'stck_oprc': '72300', 'stck_hgpr': '73000', 'stck_lwpr': '71700', 'acml_vol': '15376066', 'acml_tr_pbmn': '1109067418300', 'flng_cls_code': '00', 'prtt_rate': '0.00', 'mod_yn': 'N', 'prdy_vrss_sign': '3', 'prdy_vrss': '0', 'revl_issu_reas': ''}, {'stck_bsop_date': '20240318', 'stck_clpr': '72800', 'stck_oprc': '72600', 'stck_hgpr': '73000', 'stck_lwpr': '72500', 'acml_vol': '11520348', 'acml_tr_pbmn': '837895575620', 'flng_cls_code': '00', 'prtt_rate': '0.00', 'mod_yn': 'N', 'prdy_vrss_sign': '2', 'prdy_vrss': '500', 'revl_issu_reas': ''}, {'stck_bsop_date': '20240315', 'stck_clpr': '72300', 'stck_oprc': '73400', 'stck_hgpr': '73700', 'stck_lwpr': '72300', 'acml_vol': '22580556', 'acml_tr_pbmn': '1646273148384', 'flng_cls_code': '00', 'prtt_rate': '0.00', 'mod_yn': 'N', 'prdy_vrss_sign': '5', 'prdy_vrss': '-2000', 'revl_issu_reas': ''}, {'stck_bsop_date': '20240314', 'stck_clpr': '74300', 'stck_oprc': '74400', 'stck_hgpr': '74500', 'stck_lwpr': '73600', 'acml_vol': '22545540', 'acml_tr_pbmn': '1672983915400', 'flng_cls_code': '00', 'prtt_rate': '0.00', 'mod_yn': 'N', 'prdy_vrss_sign': '2', 'prdy_vrss': '200', 'revl_issu_reas': ''}, {'stck_bsop_date': '20240313', 'stck_clpr': '74100', 'stck_oprc': '73700', 'stck_hgpr': '74100', 'stck_lwpr': '73500', 'acml_vol': '15243134', 'acml_tr_pbmn': '1126213362951', 'flng_cls_code': '00', 'prtt_rate': '0.00', 'mod_yn': 'N', 'prdy_vrss_sign': '2', 'prdy_vrss': '800', 'revl_issu_reas': ''}, {'stck_bsop_date': '20240312', 'stck_clpr': '73300', 'stck_oprc': '72600', 'stck_hgpr': '73500', 'stck_lwpr': '72100', 'acml_vol': '13011654', 'acml_tr_pbmn': '946370610204', 'flng_cls_code': '00', 'prtt_rate': '0.00', 'mod_yn': 'N', 'prdy_vrss_sign': '2', 'prdy_vrss': '900', 'revl_issu_reas': ''}, {'stck_bsop_date': '20240311', 'stck_clpr': '72400', 'stck_oprc': '72900', 'stck_hgpr': '73100', 'stck_lwpr': '72300', 'acml_vol': '9740504', 'acml_tr_pbmn': '707795779500', 'flng_cls_code': '00', 'prtt_rate': '0.00', 'mod_yn': 'N', 'prdy_vrss_sign': '5', 'prdy_vrss': '-900', 'revl_issu_reas': ''}, {'stck_bsop_date': '20240308', 'stck_clpr': '73300', 'stck_oprc': '72800', 'stck_hgpr': '73400', 'stck_lwpr': '72600', 'acml_vol': '19271348', 'acml_tr_pbmn': '1406734002184', 'flng_cls_code': '00', 'prtt_rate': '0.00', 'mod_yn': 'N', 'prdy_vrss_sign': '2', 'prdy_vrss': '1100', 'revl_issu_reas': ''}, {'stck_bsop_date': '20240307', 'stck_clpr': '72200', 'stck_oprc': '73100', 'stck_hgpr': '73300', 'stck_lwpr': '72200', 'acml_vol': '14516963', 'acml_tr_pbmn': '1054959751460', 'flng_cls_code': '00', 'prtt_rate': '0.00', 'mod_yn': 'N', 'prdy_vrss_sign': '5', 'prdy_vrss': '-700', 'revl_issu_reas': ''}, {'stck_bsop_date': '20240306', 'stck_clpr': '72900', 'stck_oprc': '73200', 'stck_hgpr': '73500', 'stck_lwpr': '72700', 'acml_vol': '21547904', 'acml_tr_pbmn': '1577128384469', 'flng_cls_code': '00', 'prtt_rate': '0.00', 'mod_yn': 'N', 'prdy_vrss_sign': '5', 'prdy_vrss': '-800', 'revl_issu_reas': ''}, {'stck_bsop_date': '20240305', 'stck_clpr': '73700', 'stck_oprc': '74600', 'stck_hgpr': '74800', 'stck_lwpr': '73700', 'acml_vol': '19505124', 'acml_tr_pbmn': '1446710162593', 'flng_cls_code': '00', 'prtt_rate': '0.00', 'mod_yn': 'N', 'prdy_vrss_sign': '5', 'prdy_vrss': '-1200', 'revl_issu_reas': ''}, {'stck_bsop_date': '20240304', 'stck_clpr': '74900', 'stck_oprc': '74300', 'stck_hgpr': '75000', 'stck_lwpr': '74000', 'acml_vol': '23210474', 'acml_tr_pbmn': '1730190362362', 'flng_cls_code': '00', 'prtt_rate': '0.00', 'mod_yn': 'N', 'prdy_vrss_sign': '2', 'prdy_vrss': '1500', 'revl_issu_reas': ''}, {'stck_bsop_date': '20240229', 'stck_clpr': '73400', 'stck_oprc': '72600', 'stck_hgpr': '73400', 'stck_lwpr': '72000', 'acml_vol': '21176404', 'acml_tr_pbmn': '1543929097874', 'flng_cls_code': '00', 'prtt_rate': '0.00', 'mod_yn': 'N', 'prdy_vrss_sign': '2', 'prdy_vrss': '200', 'revl_issu_reas': ''}, {'stck_bsop_date': '20240228', 'stck_clpr': '73200', 'stck_oprc': '72900', 'stck_hgpr': '73900', 'stck_lwpr': '72800', 'acml_vol': '11795859', 'acml_tr_pbmn': '866532716548', 'flng_cls_code': '00', 'prtt_rate': '0.00', 'mod_yn': 'N', 'prdy_vrss_sign': '2', 'prdy_vrss': '300', 'revl_issu_reas': ''}, {'stck_bsop_date': '20240227', 'stck_clpr': '72900', 'stck_oprc': '73100', 'stck_hgpr': '73400', 'stck_lwpr': '72700', 'acml_vol': '13201981', 'acml_tr_pbmn': '963297077300', 'flng_cls_code': '00', 'prtt_rate': '0.00', 'mod_yn': 'N', 'prdy_vrss_sign': '2', 'prdy_vrss': '100', 'revl_issu_reas': ''}, {'stck_bsop_date': '20240226', 'stck_clpr': '72800', 'stck_oprc': '72300', 'stck_hgpr': '73200', 'stck_lwpr': '72200', 'acml_vol': '14669352', 'acml_tr_pbmn': '1067725992988', 'flng_cls_code': '00', 'prtt_rate': '0.00', 'mod_yn': 'N', 'prdy_vrss_sign': '5', 'prdy_vrss': '-100', 'revl_issu_reas': ''}, {'stck_bsop_date': '20240223', 'stck_clpr': '72900', 'stck_oprc': '73600', 'stck_hgpr': '74200', 'stck_lwpr': '72900', 'acml_vol': '16225166', 'acml_tr_pbmn': '1189838938900', 'flng_cls_code': '00', 'prtt_rate': '0.00', 'mod_yn': 'N', 'prdy_vrss_sign': '5', 'prdy_vrss': '-200', 'revl_issu_reas': ''}, {'stck_bsop_date': '20240222', 'stck_clpr': '73100', 'stck_oprc': '73800', 'stck_hgpr': '73900', 'stck_lwpr': '72700', 'acml_vol': '15208934', 'acml_tr_pbmn': '1111907697100', 'flng_cls_code': '00', 'prtt_rate': '0.00', 'mod_yn': 'N', 'prdy_vrss_sign': '2', 'prdy_vrss': '100', 'revl_issu_reas': ''}], 'rt_cd': '0', 'msg_cd': 'MCA00000', 'msg1': '정상처리 되었습니다.'}\n"
     ]
    }
   ],
   "source": [
    "day_candlestick = broker.fetch_ohlcv(\n",
    "    symbol=\"005930\",\n",
    "    timeframe='D', # D: 일봉, W: 주봉, M: 월봉\n",
    "    adj_price=True\n",
    ")\n",
    "\n",
    "print(day_candlestick)"
   ]
  },
  {
   "cell_type": "code",
   "execution_count": 18,
   "metadata": {},
   "outputs": [
    {
     "data": {
      "text/html": [
       "<div>\n",
       "<style scoped>\n",
       "    .dataframe tbody tr th:only-of-type {\n",
       "        vertical-align: middle;\n",
       "    }\n",
       "\n",
       "    .dataframe tbody tr th {\n",
       "        vertical-align: top;\n",
       "    }\n",
       "\n",
       "    .dataframe thead th {\n",
       "        text-align: right;\n",
       "    }\n",
       "</style>\n",
       "<table border=\"1\" class=\"dataframe\">\n",
       "  <thead>\n",
       "    <tr style=\"text-align: right;\">\n",
       "      <th></th>\n",
       "      <th>open</th>\n",
       "      <th>high</th>\n",
       "      <th>low</th>\n",
       "      <th>close</th>\n",
       "    </tr>\n",
       "    <tr>\n",
       "      <th>date</th>\n",
       "      <th></th>\n",
       "      <th></th>\n",
       "      <th></th>\n",
       "      <th></th>\n",
       "    </tr>\n",
       "  </thead>\n",
       "  <tbody>\n",
       "    <tr>\n",
       "      <th>2024-07-18</th>\n",
       "      <td>83800</td>\n",
       "      <td>86900</td>\n",
       "      <td>83800</td>\n",
       "      <td>86900</td>\n",
       "    </tr>\n",
       "    <tr>\n",
       "      <th>2024-07-17</th>\n",
       "      <td>87100</td>\n",
       "      <td>88000</td>\n",
       "      <td>86400</td>\n",
       "      <td>86700</td>\n",
       "    </tr>\n",
       "    <tr>\n",
       "      <th>2024-07-16</th>\n",
       "      <td>86900</td>\n",
       "      <td>88000</td>\n",
       "      <td>86700</td>\n",
       "      <td>87700</td>\n",
       "    </tr>\n",
       "    <tr>\n",
       "      <th>2024-07-15</th>\n",
       "      <td>84700</td>\n",
       "      <td>87300</td>\n",
       "      <td>84100</td>\n",
       "      <td>86700</td>\n",
       "    </tr>\n",
       "    <tr>\n",
       "      <th>2024-07-12</th>\n",
       "      <td>85900</td>\n",
       "      <td>86100</td>\n",
       "      <td>84100</td>\n",
       "      <td>84400</td>\n",
       "    </tr>\n",
       "  </tbody>\n",
       "</table>\n",
       "</div>"
      ],
      "text/plain": [
       "             open   high    low  close\n",
       "date                                  \n",
       "2024-07-18  83800  86900  83800  86900\n",
       "2024-07-17  87100  88000  86400  86700\n",
       "2024-07-16  86900  88000  86700  87700\n",
       "2024-07-15  84700  87300  84100  86700\n",
       "2024-07-12  85900  86100  84100  84400"
      ]
     },
     "execution_count": 18,
     "metadata": {},
     "output_type": "execute_result"
    }
   ],
   "source": [
    "import pandas as pd\n",
    "\n",
    "day_df = pd.DataFrame(day_candlestick['output2'])\n",
    "day_dt = pd.to_datetime(day_df['stck_bsop_date'], format=\"%Y%m%d\")\n",
    "day_df.set_index(day_dt, inplace=True)\n",
    "day_df = day_df[['stck_oprc', 'stck_hgpr', 'stck_lwpr', 'stck_clpr']]\n",
    "day_df.columns = ['open', 'high', 'low', 'close']\n",
    "day_df.index.name = \"date\"\n",
    "\n",
    "day_df.head()"
   ]
  },
  {
   "cell_type": "markdown",
   "metadata": {},
   "source": [
    "# 당일 분봉 데이터 조회\n",
    "- 모의투자에서는 당일 분봉 데이터 조회가 불가능함\n",
    "- 실전투자 api 사용해야함"
   ]
  },
  {
   "cell_type": "code",
   "execution_count": 29,
   "metadata": {},
   "outputs": [
    {
     "name": "stdout",
     "output_type": "stream",
     "text": [
      "<mojito.koreainvestment.KoreaInvestment object at 0x12e2cf760>\n"
     ]
    }
   ],
   "source": [
    "import mojito\n",
    "\n",
    "api_text = open('./kis-keys.txt', 'r')\n",
    "lines = api_text.readlines()\n",
    "\n",
    "# read api_key, secret_key, account number from the file\n",
    "api_key = lines[0].strip()\n",
    "secret_key = lines[1].strip()\n",
    "acc_no = lines[2].strip()\n",
    "api_text.close()\n",
    "\n",
    "real_broker = mojito.KoreaInvestment(\n",
    "    api_key=api_key,\n",
    "    api_secret=secret_key,\n",
    "    acc_no=acc_no, # 계좌번호 - 가 꼭 있어야함! (ex: 12341234-01)\n",
    "    mock=True # 이번에는 모의투자로 진행!!\n",
    ")\n",
    "\n",
    "print(real_broker) # valid for 24 hours"
   ]
  },
  {
   "cell_type": "code",
   "execution_count": 31,
   "metadata": {},
   "outputs": [
    {
     "name": "stdout",
     "output_type": "stream",
     "text": [
      "                      open   high    low  close   volume\n",
      "datetime                                                \n",
      "2024-07-18 09:01:00  84300  84600  84200  84300   335485\n",
      "2024-07-18 09:02:00  84300  84400  84100  84200   355416\n",
      "2024-07-18 09:03:00  84200  84400  84000  84300   317339\n",
      "2024-07-18 09:04:00  84400  84400  84200  84200   122268\n",
      "2024-07-18 09:05:00  84300  84400  84200  84400   152270\n",
      "...                    ...    ...    ...    ...      ...\n",
      "2024-07-18 15:26:00  86300  86300  86300  86300        0\n",
      "2024-07-18 15:27:00  86300  86300  86300  86300        0\n",
      "2024-07-18 15:28:00  86300  86300  86300  86300        0\n",
      "2024-07-18 15:29:00  86300  86300  86300  86300        0\n",
      "2024-07-18 15:30:00  86900  86900  86900  86900  3164272\n",
      "\n",
      "[390 rows x 5 columns]\n"
     ]
    }
   ],
   "source": [
    "result = real_broker.fetch_today_1m_ohlcv(\"005930\")\n",
    "\n",
    "df = pd.DataFrame(result['output2'])\n",
    "dt = pd.to_datetime(df['stck_bsop_date'] + ' ' + df['stck_cntg_hour'], format=\"%Y%m%d %H%M%S\")\n",
    "df.set_index(dt, inplace=True)\n",
    "df = df[['stck_oprc', 'stck_hgpr', 'stck_lwpr', 'stck_prpr', 'cntg_vol']]\n",
    "df.columns = ['open', 'high', 'low', 'close', 'volume']\n",
    "df.index.name = \"datetime\"\n",
    "df = df[::-1]\n",
    "print(df)"
   ]
  }
 ],
 "metadata": {
  "kernelspec": {
   "display_name": "pyenv",
   "language": "python",
   "name": "python3"
  },
  "language_info": {
   "codemirror_mode": {
    "name": "ipython",
    "version": 3
   },
   "file_extension": ".py",
   "mimetype": "text/x-python",
   "name": "python",
   "nbconvert_exporter": "python",
   "pygments_lexer": "ipython3",
   "version": "3.8.19"
  }
 },
 "nbformat": 4,
 "nbformat_minor": 2
}
